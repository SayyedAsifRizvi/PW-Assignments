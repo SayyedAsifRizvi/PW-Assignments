{
  "nbformat": 4,
  "nbformat_minor": 0,
  "metadata": {
    "colab": {
      "provenance": [],
      "authorship_tag": "ABX9TyPjbhiyWuOewjTugIX28Q/5",
      "include_colab_link": true
    },
    "kernelspec": {
      "name": "python3",
      "display_name": "Python 3"
    },
    "language_info": {
      "name": "python"
    }
  },
  "cells": [
    {
      "cell_type": "markdown",
      "metadata": {
        "id": "view-in-github",
        "colab_type": "text"
      },
      "source": [
        "<a href=\"https://colab.research.google.com/github/SayyedAsifRizvi/PW-Assignments/blob/main/%2219th_August_Python_Basics_ipynb%22.ipynb\" target=\"_parent\"><img src=\"https://colab.research.google.com/assets/colab-badge.svg\" alt=\"Open In Colab\"/></a>"
      ]
    },
    {
      "cell_type": "markdown",
      "source": [
        "**TOPIC: Python Basics Variable**"
      ],
      "metadata": {
        "id": "BIMzxtaaMZZh"
      }
    },
    {
      "cell_type": "markdown",
      "source": [
        "1. Declare two variables, `x` and `y`, and assign them integer values. Swap the\n",
        "values of these variables without using any temporary variable."
      ],
      "metadata": {
        "id": "jL_LWkt3Ks4R"
      }
    },
    {
      "cell_type": "code",
      "source": [
        "x = 34\n",
        "y = 23\n",
        "x,y = y,x"
      ],
      "metadata": {
        "id": "szUEVG25KtmT"
      },
      "execution_count": null,
      "outputs": []
    },
    {
      "cell_type": "markdown",
      "source": [
        "2. Create a program that calculates the area of a rectangle. Take the length and\n",
        "width as inputs from the user and store them in variables. Calculate and\n",
        "display the area."
      ],
      "metadata": {
        "id": "7FYd3_tmLGx8"
      }
    },
    {
      "cell_type": "code",
      "source": [
        "length = int(input())\n",
        "breadth = int(input())\n",
        "area_rec = length*breadth\n",
        "print(area_rec)"
      ],
      "metadata": {
        "id": "JUqfkgtUK2iU"
      },
      "execution_count": null,
      "outputs": []
    },
    {
      "cell_type": "markdown",
      "source": [
        "3. Write a Python program that converts temperatures from Celsius to\n",
        "Fahrenheit. Take the temperature in Celsius as input, store it in a variable,\n",
        "convert it to Fahrenheit, and display the result."
      ],
      "metadata": {
        "id": "f3QfqUqlLp1c"
      }
    },
    {
      "cell_type": "code",
      "source": [
        "t_c = float(input())\n",
        "t_f = (9/5)*t_c +32\n",
        "print(t_f)\n",
        "\n"
      ],
      "metadata": {
        "id": "OL7lLtOuLe7-"
      },
      "execution_count": null,
      "outputs": []
    },
    {
      "cell_type": "markdown",
      "source": [
        "**TOPIC: String Based Questions**"
      ],
      "metadata": {
        "id": "nhzl5riaMmqL"
      }
    },
    {
      "cell_type": "markdown",
      "source": [
        "1. Write a Python program that takes a string as input and prints the length of\n",
        "the string.\n"
      ],
      "metadata": {
        "id": "XcIyt7EVNEEK"
      }
    },
    {
      "cell_type": "code",
      "source": [
        "string = input()\n",
        "print(len(string))"
      ],
      "metadata": {
        "id": "MV9tZzruME_z"
      },
      "execution_count": null,
      "outputs": []
    },
    {
      "cell_type": "markdown",
      "source": [
        "2. Create a program that takes a sentence from the user and counts the number\n",
        "of vowels (a, e, i, o, u) in the string.\n"
      ],
      "metadata": {
        "id": "TfHMYfNQNkcu"
      }
    },
    {
      "cell_type": "code",
      "source": [
        "sentence = input()\n",
        "count_vowels = 0\n",
        "for i in sentence:\n",
        "  if i.lower() in [\"a\",\"e\",\"i\",\"o\",\"u\"]:\n",
        "    count_vowels +=1\n",
        "print(count_vowels)\n",
        "\n"
      ],
      "metadata": {
        "id": "IIrFkATrNVEo"
      },
      "execution_count": null,
      "outputs": []
    },
    {
      "cell_type": "markdown",
      "source": [
        "3. Given a string, reverse the order of characters using string slicing and print\n",
        "the reversed string.\n"
      ],
      "metadata": {
        "id": "gjS1rRyhPDLv"
      }
    },
    {
      "cell_type": "code",
      "source": [
        "def reverse_string(string):\n",
        "  reversed_str = \"\"\n",
        "  for i in range(len(string)):\n",
        "    reversed_str += string[-i-1]\n",
        "  return reversed_str\n",
        "print(reverse_string(\"asdfg\"))\n"
      ],
      "metadata": {
        "colab": {
          "base_uri": "https://localhost:8080/"
        },
        "id": "gtx_1oanOhSY",
        "outputId": "c979da16-349f-4fc3-e24f-5626c5523eba"
      },
      "execution_count": null,
      "outputs": [
        {
          "output_type": "stream",
          "name": "stdout",
          "text": [
            "gfdsa\n"
          ]
        }
      ]
    },
    {
      "cell_type": "markdown",
      "source": [
        "4. Write a program that takes a string as input and checks if it is a palindrome\n",
        "(reads the same forwards and backwards).\n"
      ],
      "metadata": {
        "id": "X-PANJh-VFe4"
      }
    },
    {
      "cell_type": "code",
      "source": [
        "def check_palindrome(string):\n",
        "  for i in range(len(string)):\n",
        "    is_palindrome = True\n",
        "    if string[i] != string[-i -1]:\n",
        "      is_pqlindrome = False\n",
        "  return is_palindrome\n",
        "check_palindrome(\"abcdcba\")"
      ],
      "metadata": {
        "id": "HV25tpq3QWcT"
      },
      "execution_count": null,
      "outputs": []
    },
    {
      "cell_type": "markdown",
      "source": [
        "5. Create a program that takes a string as input and removes all the spaces from\n",
        "it. Print the modified string without spaces.\n"
      ],
      "metadata": {
        "id": "QUm2fJNsVJri"
      }
    },
    {
      "cell_type": "code",
      "source": [
        "def filler(string):\n",
        "  ans = \"\"\n",
        "  for i in string:\n",
        "    if i!= \" \":\n",
        "      ans +=i\n",
        "  return ans\n",
        "\n",
        "\n"
      ],
      "metadata": {
        "id": "VrAhDd2eVLmx"
      },
      "execution_count": null,
      "outputs": []
    },
    {
      "cell_type": "code",
      "source": [
        "filler(\"ass   ghh \")"
      ],
      "metadata": {
        "colab": {
          "base_uri": "https://localhost:8080/",
          "height": 36
        },
        "id": "ISNxL7DBYQiB",
        "outputId": "13dbfe05-6079-476e-cccd-3b7065416132"
      },
      "execution_count": null,
      "outputs": [
        {
          "output_type": "execute_result",
          "data": {
            "text/plain": [
              "'assghh'"
            ],
            "application/vnd.google.colaboratory.intrinsic+json": {
              "type": "string"
            }
          },
          "metadata": {},
          "execution_count": 17
        }
      ]
    },
    {
      "cell_type": "code",
      "source": [],
      "metadata": {
        "id": "1gDWcUScYgdl"
      },
      "execution_count": null,
      "outputs": []
    }
  ]
}